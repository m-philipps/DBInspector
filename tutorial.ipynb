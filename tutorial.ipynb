{
 "cells": [
  {
   "cell_type": "markdown",
   "id": "rotary-roman",
   "metadata": {},
   "source": [
    "# Tutorial for the Cross Verification of Protein Information"
   ]
  },
  {
   "cell_type": "code",
   "execution_count": 1,
   "id": "cellular-compatibility",
   "metadata": {},
   "outputs": [],
   "source": [
    "from dbinspector.parse import parse_all\n",
    "from dbinspector.compare import compare_entries, summary_statistics"
   ]
  },
  {
   "cell_type": "markdown",
   "id": "promotional-intelligence",
   "metadata": {},
   "source": [
    "## Download and Parse Data:"
   ]
  },
  {
   "cell_type": "code",
   "execution_count": 2,
   "id": "scientific-arcade",
   "metadata": {},
   "outputs": [
    {
     "name": "stderr",
     "output_type": "stream",
     "text": [
      "                                                             \r"
     ]
    }
   ],
   "source": [
    "parse_all()"
   ]
  },
  {
   "cell_type": "markdown",
   "id": "earned-small",
   "metadata": {},
   "source": [
    "## Compare Information Across Databases About Your Protein-of-Interest:"
   ]
  },
  {
   "cell_type": "markdown",
   "id": "southern-orange",
   "metadata": {},
   "source": [
    "A single identifier should be given.\n",
    "\n",
    "This can be done with a UniProt ID:"
   ]
  },
  {
   "cell_type": "code",
   "execution_count": 3,
   "id": "interpreted-complex",
   "metadata": {},
   "outputs": [
    {
     "data": {
      "text/html": [
       "<div>\n",
       "<style scoped>\n",
       "    .dataframe tbody tr th:only-of-type {\n",
       "        vertical-align: middle;\n",
       "    }\n",
       "\n",
       "    .dataframe tbody tr th {\n",
       "        vertical-align: top;\n",
       "    }\n",
       "\n",
       "    .dataframe thead th {\n",
       "        text-align: right;\n",
       "    }\n",
       "</style>\n",
       "<table border=\"1\" class=\"dataframe\">\n",
       "  <thead>\n",
       "    <tr style=\"text-align: right;\">\n",
       "      <th></th>\n",
       "      <th>UniProt entry 1</th>\n",
       "      <th>RefSeq entry 1</th>\n",
       "    </tr>\n",
       "  </thead>\n",
       "  <tbody>\n",
       "    <tr>\n",
       "      <th>symbol</th>\n",
       "      <td>[TNF, TNFA, TNFSF2]</td>\n",
       "      <td>[TNF]</td>\n",
       "    </tr>\n",
       "    <tr>\n",
       "      <th>UniProt ID</th>\n",
       "      <td>Q9UIV3</td>\n",
       "      <td>Q5STB3</td>\n",
       "    </tr>\n",
       "    <tr>\n",
       "      <th>RefSeq ID</th>\n",
       "      <td>[NP_000585.2]</td>\n",
       "      <td>[NP_000585.2]</td>\n",
       "    </tr>\n",
       "    <tr>\n",
       "      <th>sequence</th>\n",
       "      <td>MSTESMIRDVELAEEALPKKTGGPQGSRRCLFLSLFSFLIVAGATT...</td>\n",
       "      <td>MSTESMIRDVELAEEALPKKTGGPQGSRRCLFLSLFSFLIVAGATT...</td>\n",
       "    </tr>\n",
       "    <tr>\n",
       "      <th>sequence matches</th>\n",
       "      <td>[RefSeq entry 1]</td>\n",
       "      <td>[UniProt entry 1]</td>\n",
       "    </tr>\n",
       "    <tr>\n",
       "      <th>sequence length</th>\n",
       "      <td>233</td>\n",
       "      <td>233</td>\n",
       "    </tr>\n",
       "  </tbody>\n",
       "</table>\n",
       "</div>"
      ],
      "text/plain": [
       "                                                    UniProt entry 1  \\\n",
       "symbol                                          [TNF, TNFA, TNFSF2]   \n",
       "UniProt ID                                                   Q9UIV3   \n",
       "RefSeq ID                                             [NP_000585.2]   \n",
       "sequence          MSTESMIRDVELAEEALPKKTGGPQGSRRCLFLSLFSFLIVAGATT...   \n",
       "sequence matches                                   [RefSeq entry 1]   \n",
       "sequence length                                                 233   \n",
       "\n",
       "                                                     RefSeq entry 1  \n",
       "symbol                                                        [TNF]  \n",
       "UniProt ID                                                   Q5STB3  \n",
       "RefSeq ID                                             [NP_000585.2]  \n",
       "sequence          MSTESMIRDVELAEEALPKKTGGPQGSRRCLFLSLFSFLIVAGATT...  \n",
       "sequence matches                                  [UniProt entry 1]  \n",
       "sequence length                                                 233  "
      ]
     },
     "execution_count": 3,
     "metadata": {},
     "output_type": "execute_result"
    }
   ],
   "source": [
    "compare_entries(uniprot_id='Q9UIV3')"
   ]
  },
  {
   "cell_type": "markdown",
   "id": "advanced-cooperative",
   "metadata": {},
   "source": [
    "A RefSeq ID:"
   ]
  },
  {
   "cell_type": "code",
   "execution_count": 4,
   "id": "divine-department",
   "metadata": {},
   "outputs": [
    {
     "data": {
      "text/html": [
       "<div>\n",
       "<style scoped>\n",
       "    .dataframe tbody tr th:only-of-type {\n",
       "        vertical-align: middle;\n",
       "    }\n",
       "\n",
       "    .dataframe tbody tr th {\n",
       "        vertical-align: top;\n",
       "    }\n",
       "\n",
       "    .dataframe thead th {\n",
       "        text-align: right;\n",
       "    }\n",
       "</style>\n",
       "<table border=\"1\" class=\"dataframe\">\n",
       "  <thead>\n",
       "    <tr style=\"text-align: right;\">\n",
       "      <th></th>\n",
       "      <th>No UniProt entry</th>\n",
       "      <th>RefSeq entry 1</th>\n",
       "    </tr>\n",
       "  </thead>\n",
       "  <tbody>\n",
       "    <tr>\n",
       "      <th>symbol</th>\n",
       "      <td>[]</td>\n",
       "      <td>[TP53]</td>\n",
       "    </tr>\n",
       "    <tr>\n",
       "      <th>UniProt ID</th>\n",
       "      <td>[]</td>\n",
       "      <td>Q53GA5</td>\n",
       "    </tr>\n",
       "    <tr>\n",
       "      <th>RefSeq ID</th>\n",
       "      <td>[]</td>\n",
       "      <td>[NP_000537.3]</td>\n",
       "    </tr>\n",
       "    <tr>\n",
       "      <th>sequence</th>\n",
       "      <td>[]</td>\n",
       "      <td>MEEPQSDPSVEPPLSQETFSDLWKLLPENNVLSPLPSQAMDDLMLS...</td>\n",
       "    </tr>\n",
       "    <tr>\n",
       "      <th>sequence matches</th>\n",
       "      <td>None</td>\n",
       "      <td>None</td>\n",
       "    </tr>\n",
       "    <tr>\n",
       "      <th>sequence length</th>\n",
       "      <td>0</td>\n",
       "      <td>393</td>\n",
       "    </tr>\n",
       "  </tbody>\n",
       "</table>\n",
       "</div>"
      ],
      "text/plain": [
       "                 No UniProt entry  \\\n",
       "symbol                         []   \n",
       "UniProt ID                     []   \n",
       "RefSeq ID                      []   \n",
       "sequence                       []   \n",
       "sequence matches             None   \n",
       "sequence length                 0   \n",
       "\n",
       "                                                     RefSeq entry 1  \n",
       "symbol                                                       [TP53]  \n",
       "UniProt ID                                                   Q53GA5  \n",
       "RefSeq ID                                             [NP_000537.3]  \n",
       "sequence          MEEPQSDPSVEPPLSQETFSDLWKLLPENNVLSPLPSQAMDDLMLS...  \n",
       "sequence matches                                               None  \n",
       "sequence length                                                 393  "
      ]
     },
     "execution_count": 4,
     "metadata": {},
     "output_type": "execute_result"
    }
   ],
   "source": [
    "compare_entries(refseq_id='NP_000537.3')"
   ]
  },
  {
   "cell_type": "markdown",
   "id": "applicable-wednesday",
   "metadata": {},
   "source": [
    "Or a gene symbol:"
   ]
  },
  {
   "cell_type": "code",
   "execution_count": 5,
   "id": "local-spyware",
   "metadata": {},
   "outputs": [
    {
     "data": {
      "text/html": [
       "<div>\n",
       "<style scoped>\n",
       "    .dataframe tbody tr th:only-of-type {\n",
       "        vertical-align: middle;\n",
       "    }\n",
       "\n",
       "    .dataframe tbody tr th {\n",
       "        vertical-align: top;\n",
       "    }\n",
       "\n",
       "    .dataframe thead th {\n",
       "        text-align: right;\n",
       "    }\n",
       "</style>\n",
       "<table border=\"1\" class=\"dataframe\">\n",
       "  <thead>\n",
       "    <tr style=\"text-align: right;\">\n",
       "      <th></th>\n",
       "      <th>UniProt entry 1</th>\n",
       "      <th>RefSeq entry 1</th>\n",
       "    </tr>\n",
       "  </thead>\n",
       "  <tbody>\n",
       "    <tr>\n",
       "      <th>symbol</th>\n",
       "      <td>[BRCA2, FACD, FANCD1]</td>\n",
       "      <td>[BRCA2]</td>\n",
       "    </tr>\n",
       "    <tr>\n",
       "      <th>UniProt ID</th>\n",
       "      <td>Q5TBJ7</td>\n",
       "      <td>P51587</td>\n",
       "    </tr>\n",
       "    <tr>\n",
       "      <th>RefSeq ID</th>\n",
       "      <td>[NP_000050.2]</td>\n",
       "      <td>NP_000050.3</td>\n",
       "    </tr>\n",
       "    <tr>\n",
       "      <th>sequence</th>\n",
       "      <td>MPIGSKERPTFFEIFKTRCNKADLGPISLNWFEELSSEAPPYNSEP...</td>\n",
       "      <td>MPIGSKERPTFFEIFKTRCNKADLGPISLNWFEELSSEAPPYNSEP...</td>\n",
       "    </tr>\n",
       "    <tr>\n",
       "      <th>sequence matches</th>\n",
       "      <td>None</td>\n",
       "      <td>None</td>\n",
       "    </tr>\n",
       "    <tr>\n",
       "      <th>sequence length</th>\n",
       "      <td>3418</td>\n",
       "      <td>3418</td>\n",
       "    </tr>\n",
       "  </tbody>\n",
       "</table>\n",
       "</div>"
      ],
      "text/plain": [
       "                                                    UniProt entry 1  \\\n",
       "symbol                                        [BRCA2, FACD, FANCD1]   \n",
       "UniProt ID                                                   Q5TBJ7   \n",
       "RefSeq ID                                             [NP_000050.2]   \n",
       "sequence          MPIGSKERPTFFEIFKTRCNKADLGPISLNWFEELSSEAPPYNSEP...   \n",
       "sequence matches                                               None   \n",
       "sequence length                                                3418   \n",
       "\n",
       "                                                     RefSeq entry 1  \n",
       "symbol                                                      [BRCA2]  \n",
       "UniProt ID                                                   P51587  \n",
       "RefSeq ID                                               NP_000050.3  \n",
       "sequence          MPIGSKERPTFFEIFKTRCNKADLGPISLNWFEELSSEAPPYNSEP...  \n",
       "sequence matches                                               None  \n",
       "sequence length                                                3418  "
      ]
     },
     "execution_count": 5,
     "metadata": {},
     "output_type": "execute_result"
    }
   ],
   "source": [
    "compare_entries(symbol='BRCA2')"
   ]
  },
  {
   "cell_type": "markdown",
   "id": "twenty-buying",
   "metadata": {},
   "source": [
    "## Determining how much the databases align overall:"
   ]
  },
  {
   "cell_type": "code",
   "execution_count": 6,
   "id": "virtual-folder",
   "metadata": {},
   "outputs": [
    {
     "data": {
      "text/html": [
       "<div>\n",
       "<style scoped>\n",
       "    .dataframe tbody tr th:only-of-type {\n",
       "        vertical-align: middle;\n",
       "    }\n",
       "\n",
       "    .dataframe tbody tr th {\n",
       "        vertical-align: top;\n",
       "    }\n",
       "\n",
       "    .dataframe thead th {\n",
       "        text-align: right;\n",
       "    }\n",
       "</style>\n",
       "<table border=\"1\" class=\"dataframe\">\n",
       "  <thead>\n",
       "    <tr style=\"text-align: right;\">\n",
       "      <th></th>\n",
       "      <th>Number of matches</th>\n",
       "      <th>Matching UniProt entries [%]</th>\n",
       "      <th>Matching RefSeq entries [%]</th>\n",
       "    </tr>\n",
       "  </thead>\n",
       "  <tbody>\n",
       "    <tr>\n",
       "      <th>Symbol</th>\n",
       "      <td>16293</td>\n",
       "      <td>32.27%</td>\n",
       "      <td>26.66%</td>\n",
       "    </tr>\n",
       "    <tr>\n",
       "      <th>RefSeq ID</th>\n",
       "      <td>39353</td>\n",
       "      <td>89.33%</td>\n",
       "      <td>64.38%</td>\n",
       "    </tr>\n",
       "    <tr>\n",
       "      <th>UniProt ID</th>\n",
       "      <td>1802</td>\n",
       "      <td>7.07%</td>\n",
       "      <td>2.95%</td>\n",
       "    </tr>\n",
       "    <tr>\n",
       "      <th>Sequence</th>\n",
       "      <td>22102</td>\n",
       "      <td>85.51%</td>\n",
       "      <td>36.16%</td>\n",
       "    </tr>\n",
       "    <tr>\n",
       "      <th>Sequence length</th>\n",
       "      <td>22531</td>\n",
       "      <td>86.66%</td>\n",
       "      <td>36.86%</td>\n",
       "    </tr>\n",
       "  </tbody>\n",
       "</table>\n",
       "</div>"
      ],
      "text/plain": [
       "                 Number of matches Matching UniProt entries [%]  \\\n",
       "Symbol                       16293                       32.27%   \n",
       "RefSeq ID                    39353                       89.33%   \n",
       "UniProt ID                    1802                        7.07%   \n",
       "Sequence                     22102                       85.51%   \n",
       "Sequence length              22531                       86.66%   \n",
       "\n",
       "                Matching RefSeq entries [%]  \n",
       "Symbol                               26.66%  \n",
       "RefSeq ID                            64.38%  \n",
       "UniProt ID                            2.95%  \n",
       "Sequence                             36.16%  \n",
       "Sequence length                      36.86%  "
      ]
     },
     "execution_count": 6,
     "metadata": {},
     "output_type": "execute_result"
    }
   ],
   "source": [
    "summary_statistics()"
   ]
  },
  {
   "cell_type": "code",
   "execution_count": null,
   "id": "administrative-developer",
   "metadata": {},
   "outputs": [],
   "source": []
  }
 ],
 "metadata": {
  "kernelspec": {
   "display_name": "plab_final",
   "language": "python",
   "name": "plab_final"
  },
  "language_info": {
   "codemirror_mode": {
    "name": "ipython",
    "version": 3
   },
   "file_extension": ".py",
   "mimetype": "text/x-python",
   "name": "python",
   "nbconvert_exporter": "python",
   "pygments_lexer": "ipython3",
   "version": "3.7.9"
  }
 },
 "nbformat": 4,
 "nbformat_minor": 5
}
